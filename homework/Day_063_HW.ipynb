{
 "cells": [
  {
   "cell_type": "markdown",
   "metadata": {},
   "source": [
    "CNN空間擴展，神經元與特徵卷積，用於靜態輸出。特點是善於抽取位置不變特徵。\n",
    "RNN時間擴展，神經元與多個時間輸出計算。可以用於描述時間上連續狀態的輸出，有記憶功能。\n",
    "目前很多最先進的NLP任務之所以不斷切換模型，就是因為CNN和RNN之間特點的差異性。\n",
    "\n",
    "所以答案為 有可能。因為CNN 也可以拿來解決自然語言處理的問題，效果比簡單 RNN 還好。"
   ]
  }
 ],
 "metadata": {
  "kernelspec": {
   "display_name": "Python 3",
   "language": "python",
   "name": "python3"
  },
  "language_info": {
   "codemirror_mode": {
    "name": "ipython",
    "version": 3
   },
   "file_extension": ".py",
   "mimetype": "text/x-python",
   "name": "python",
   "nbconvert_exporter": "python",
   "pygments_lexer": "ipython3",
   "version": "3.6.4"
  }
 },
 "nbformat": 4,
 "nbformat_minor": 2
}
