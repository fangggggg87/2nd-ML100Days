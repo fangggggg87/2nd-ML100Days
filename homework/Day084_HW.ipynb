{
 "cells": [
  {
   "cell_type": "markdown",
   "metadata": {},
   "source": [
    "## Work\n",
    "### 請結合前面的知識與程式碼，比較不同的 regularization 的組合對訓練的結果與影響：如 dropout, regularizers, batch-normalization 等"
   ]
  },
  {
   "cell_type": "code",
   "execution_count": 1,
   "metadata": {},
   "outputs": [
    {
     "name": "stderr",
     "output_type": "stream",
     "text": [
      "C:\\Users\\NTUTIED11\\Anaconda3\\lib\\site-packages\\h5py\\__init__.py:36: FutureWarning: Conversion of the second argument of issubdtype from `float` to `np.floating` is deprecated. In future, it will be treated as `np.float64 == np.dtype(float).type`.\n",
      "  from ._conv import register_converters as _register_converters\n",
      "Using TensorFlow backend.\n",
      "C:\\Users\\NTUTIED11\\Anaconda3\\lib\\site-packages\\tensorflow\\python\\framework\\dtypes.py:516: FutureWarning: Passing (type, 1) or '1type' as a synonym of type is deprecated; in a future version of numpy, it will be understood as (type, (1,)) / '(1,)type'.\n",
      "  _np_qint8 = np.dtype([(\"qint8\", np.int8, 1)])\n",
      "C:\\Users\\NTUTIED11\\Anaconda3\\lib\\site-packages\\tensorflow\\python\\framework\\dtypes.py:517: FutureWarning: Passing (type, 1) or '1type' as a synonym of type is deprecated; in a future version of numpy, it will be understood as (type, (1,)) / '(1,)type'.\n",
      "  _np_quint8 = np.dtype([(\"quint8\", np.uint8, 1)])\n",
      "C:\\Users\\NTUTIED11\\Anaconda3\\lib\\site-packages\\tensorflow\\python\\framework\\dtypes.py:518: FutureWarning: Passing (type, 1) or '1type' as a synonym of type is deprecated; in a future version of numpy, it will be understood as (type, (1,)) / '(1,)type'.\n",
      "  _np_qint16 = np.dtype([(\"qint16\", np.int16, 1)])\n",
      "C:\\Users\\NTUTIED11\\Anaconda3\\lib\\site-packages\\tensorflow\\python\\framework\\dtypes.py:519: FutureWarning: Passing (type, 1) or '1type' as a synonym of type is deprecated; in a future version of numpy, it will be understood as (type, (1,)) / '(1,)type'.\n",
      "  _np_quint16 = np.dtype([(\"quint16\", np.uint16, 1)])\n",
      "C:\\Users\\NTUTIED11\\Anaconda3\\lib\\site-packages\\tensorflow\\python\\framework\\dtypes.py:520: FutureWarning: Passing (type, 1) or '1type' as a synonym of type is deprecated; in a future version of numpy, it will be understood as (type, (1,)) / '(1,)type'.\n",
      "  _np_qint32 = np.dtype([(\"qint32\", np.int32, 1)])\n",
      "C:\\Users\\NTUTIED11\\Anaconda3\\lib\\site-packages\\tensorflow\\python\\framework\\dtypes.py:525: FutureWarning: Passing (type, 1) or '1type' as a synonym of type is deprecated; in a future version of numpy, it will be understood as (type, (1,)) / '(1,)type'.\n",
      "  np_resource = np.dtype([(\"resource\", np.ubyte, 1)])\n",
      "C:\\Users\\NTUTIED11\\Anaconda3\\lib\\site-packages\\tensorboard\\compat\\tensorflow_stub\\dtypes.py:541: FutureWarning: Passing (type, 1) or '1type' as a synonym of type is deprecated; in a future version of numpy, it will be understood as (type, (1,)) / '(1,)type'.\n",
      "  _np_qint8 = np.dtype([(\"qint8\", np.int8, 1)])\n",
      "C:\\Users\\NTUTIED11\\Anaconda3\\lib\\site-packages\\tensorboard\\compat\\tensorflow_stub\\dtypes.py:542: FutureWarning: Passing (type, 1) or '1type' as a synonym of type is deprecated; in a future version of numpy, it will be understood as (type, (1,)) / '(1,)type'.\n",
      "  _np_quint8 = np.dtype([(\"quint8\", np.uint8, 1)])\n",
      "C:\\Users\\NTUTIED11\\Anaconda3\\lib\\site-packages\\tensorboard\\compat\\tensorflow_stub\\dtypes.py:543: FutureWarning: Passing (type, 1) or '1type' as a synonym of type is deprecated; in a future version of numpy, it will be understood as (type, (1,)) / '(1,)type'.\n",
      "  _np_qint16 = np.dtype([(\"qint16\", np.int16, 1)])\n",
      "C:\\Users\\NTUTIED11\\Anaconda3\\lib\\site-packages\\tensorboard\\compat\\tensorflow_stub\\dtypes.py:544: FutureWarning: Passing (type, 1) or '1type' as a synonym of type is deprecated; in a future version of numpy, it will be understood as (type, (1,)) / '(1,)type'.\n",
      "  _np_quint16 = np.dtype([(\"quint16\", np.uint16, 1)])\n",
      "C:\\Users\\NTUTIED11\\Anaconda3\\lib\\site-packages\\tensorboard\\compat\\tensorflow_stub\\dtypes.py:545: FutureWarning: Passing (type, 1) or '1type' as a synonym of type is deprecated; in a future version of numpy, it will be understood as (type, (1,)) / '(1,)type'.\n",
      "  _np_qint32 = np.dtype([(\"qint32\", np.int32, 1)])\n",
      "C:\\Users\\NTUTIED11\\Anaconda3\\lib\\site-packages\\tensorboard\\compat\\tensorflow_stub\\dtypes.py:550: FutureWarning: Passing (type, 1) or '1type' as a synonym of type is deprecated; in a future version of numpy, it will be understood as (type, (1,)) / '(1,)type'.\n",
      "  np_resource = np.dtype([(\"resource\", np.ubyte, 1)])\n"
     ]
    }
   ],
   "source": [
    "import os\n",
    "import keras\n",
    "import itertools\n",
    "# Disable GPU\n",
    "os.environ[\"CUDA_VISIBLE_DEVICES\"] = \"\""
   ]
  },
  {
   "cell_type": "code",
   "execution_count": 2,
   "metadata": {},
   "outputs": [],
   "source": [
    "train, test = keras.datasets.cifar10.load_data()"
   ]
  },
  {
   "cell_type": "code",
   "execution_count": 3,
   "metadata": {},
   "outputs": [],
   "source": [
    "## 資料前處理\n",
    "def preproc_x(x, flatten=True):\n",
    "    x = x / 255.\n",
    "    if flatten:\n",
    "        x = x.reshape((len(x), -1))\n",
    "    return x\n",
    "\n",
    "def preproc_y(y, num_classes=10):\n",
    "    if y.shape[-1] == 1:\n",
    "        y = keras.utils.to_categorical(y, num_classes)\n",
    "    return y    "
   ]
  },
  {
   "cell_type": "code",
   "execution_count": 4,
   "metadata": {},
   "outputs": [],
   "source": [
    "x_train, y_train = train\n",
    "x_test, y_test = test\n",
    "\n",
    "# Preproc the inputs\n",
    "x_train = preproc_x(x_train)\n",
    "x_test = preproc_x(x_test)\n",
    "\n",
    "# Preprc the outputs\n",
    "y_train = preproc_y(y_train)\n",
    "y_test = preproc_y(y_test)"
   ]
  },
  {
   "cell_type": "code",
   "execution_count": 5,
   "metadata": {},
   "outputs": [],
   "source": [
    "from keras.layers import BatchNormalization\n",
    "\n",
    "\"\"\"\n",
    "建立神經網路，並加入 BN layer\n",
    "\"\"\"\n",
    "def build_mlp(input_shape, output_units=10, num_neurons=[512, 256, 128]):\n",
    "    input_layer = keras.layers.Input(input_shape)\n",
    "    \n",
    "    for i, n_units in enumerate(num_neurons):\n",
    "        if i == 0:\n",
    "            x = keras.layers.Dense(units=n_units, \n",
    "                                   activation=\"relu\", \n",
    "                                   name=\"hidden_layer\"+str(i+1))(input_layer)\n",
    "            x = BatchNormalization()(x)\n",
    "        else:\n",
    "            x = keras.layers.Dense(units=n_units, \n",
    "                                   activation=\"relu\", \n",
    "                                   name=\"hidden_layer\"+str(i+1))(x)\n",
    "            x = BatchNormalization()(x)\n",
    "    \n",
    "    out = keras.layers.Dense(units=output_units, activation=\"softmax\", name=\"output\")(x)\n",
    "    \n",
    "    model = keras.models.Model(inputs=[input_layer], outputs=[out])\n",
    "    return model"
   ]
  },
  {
   "cell_type": "code",
   "execution_count": 6,
   "metadata": {},
   "outputs": [],
   "source": [
    "\"\"\"Code Here\n",
    "設定超參數\n",
    "\"\"\"\n",
    "LEARNING_RATE = 1e-3\n",
    "EPOCHS = 50\n",
    "BATCH_SIZE = 1024\n",
    "MOMENTUM = 0.95"
   ]
  },
  {
   "cell_type": "code",
   "execution_count": 7,
   "metadata": {
    "scrolled": true
   },
   "outputs": [
    {
     "name": "stderr",
     "output_type": "stream",
     "text": [
      "WARNING: Logging before flag parsing goes to stderr.\n",
      "W0223 15:24:55.080102  3732 deprecation_wrapper.py:119] From C:\\Users\\NTUTIED11\\Anaconda3\\lib\\site-packages\\keras\\backend\\tensorflow_backend.py:66: The name tf.get_default_graph is deprecated. Please use tf.compat.v1.get_default_graph instead.\n",
      "\n",
      "W0223 15:24:56.527832  3732 deprecation_wrapper.py:119] From C:\\Users\\NTUTIED11\\Anaconda3\\lib\\site-packages\\keras\\backend\\tensorflow_backend.py:541: The name tf.placeholder is deprecated. Please use tf.compat.v1.placeholder instead.\n",
      "\n",
      "W0223 15:24:56.691661  3732 deprecation_wrapper.py:119] From C:\\Users\\NTUTIED11\\Anaconda3\\lib\\site-packages\\keras\\backend\\tensorflow_backend.py:4432: The name tf.random_uniform is deprecated. Please use tf.random.uniform instead.\n",
      "\n",
      "W0223 15:24:56.844424  3732 deprecation_wrapper.py:119] From C:\\Users\\NTUTIED11\\Anaconda3\\lib\\site-packages\\keras\\backend\\tensorflow_backend.py:148: The name tf.placeholder_with_default is deprecated. Please use tf.compat.v1.placeholder_with_default instead.\n",
      "\n",
      "W0223 15:24:57.037388  3732 deprecation_wrapper.py:119] From C:\\Users\\NTUTIED11\\Anaconda3\\lib\\site-packages\\keras\\optimizers.py:793: The name tf.train.Optimizer is deprecated. Please use tf.compat.v1.train.Optimizer instead.\n",
      "\n",
      "W0223 15:24:57.049355  3732 deprecation_wrapper.py:119] From C:\\Users\\NTUTIED11\\Anaconda3\\lib\\site-packages\\keras\\backend\\tensorflow_backend.py:3576: The name tf.log is deprecated. Please use tf.math.log instead.\n",
      "\n",
      "W0223 15:24:57.132133  3732 deprecation.py:323] From C:\\Users\\NTUTIED11\\Anaconda3\\lib\\site-packages\\tensorflow\\python\\ops\\math_grad.py:1250: add_dispatch_support.<locals>.wrapper (from tensorflow.python.ops.array_ops) is deprecated and will be removed in a future version.\n",
      "Instructions for updating:\n",
      "Use tf.where in 2.0, which has the same broadcast rule as np.where\n"
     ]
    },
    {
     "name": "stdout",
     "output_type": "stream",
     "text": [
      "Model: \"model_1\"\n",
      "_________________________________________________________________\n",
      "Layer (type)                 Output Shape              Param #   \n",
      "=================================================================\n",
      "input_1 (InputLayer)         (None, 3072)              0         \n",
      "_________________________________________________________________\n",
      "hidden_layer1 (Dense)        (None, 512)               1573376   \n",
      "_________________________________________________________________\n",
      "batch_normalization_1 (Batch (None, 512)               2048      \n",
      "_________________________________________________________________\n",
      "hidden_layer2 (Dense)        (None, 256)               131328    \n",
      "_________________________________________________________________\n",
      "batch_normalization_2 (Batch (None, 256)               1024      \n",
      "_________________________________________________________________\n",
      "hidden_layer3 (Dense)        (None, 128)               32896     \n",
      "_________________________________________________________________\n",
      "batch_normalization_3 (Batch (None, 128)               512       \n",
      "_________________________________________________________________\n",
      "output (Dense)               (None, 10)                1290      \n",
      "=================================================================\n",
      "Total params: 1,742,474\n",
      "Trainable params: 1,740,682\n",
      "Non-trainable params: 1,792\n",
      "_________________________________________________________________\n",
      "Train on 50000 samples, validate on 10000 samples\n",
      "Epoch 1/50\n",
      "50000/50000 [==============================] - 6s 117us/step - loss: 2.2002 - acc: 0.2723 - val_loss: 2.1592 - val_acc: 0.3070\n",
      "Epoch 2/50\n",
      "50000/50000 [==============================] - 5s 95us/step - loss: 1.7477 - acc: 0.3934 - val_loss: 1.8347 - val_acc: 0.3789\n",
      "Epoch 3/50\n",
      "50000/50000 [==============================] - 5s 100us/step - loss: 1.6202 - acc: 0.4346 - val_loss: 1.6944 - val_acc: 0.4116\n",
      "Epoch 4/50\n",
      "50000/50000 [==============================] - 5s 91us/step - loss: 1.5454 - acc: 0.4601 - val_loss: 1.6451 - val_acc: 0.4265\n",
      "Epoch 5/50\n",
      "50000/50000 [==============================] - 5s 100us/step - loss: 1.4877 - acc: 0.4787 - val_loss: 1.5908 - val_acc: 0.4406\n",
      "Epoch 6/50\n",
      "50000/50000 [==============================] - 5s 100us/step - loss: 1.4386 - acc: 0.4958 - val_loss: 1.5714 - val_acc: 0.4510\n",
      "Epoch 7/50\n",
      "50000/50000 [==============================] - 5s 99us/step - loss: 1.4010 - acc: 0.5090 - val_loss: 1.5346 - val_acc: 0.4614\n",
      "Epoch 8/50\n",
      "50000/50000 [==============================] - 5s 97us/step - loss: 1.3626 - acc: 0.5245 - val_loss: 1.5277 - val_acc: 0.4611\n",
      "Epoch 9/50\n",
      "50000/50000 [==============================] - 5s 97us/step - loss: 1.3307 - acc: 0.5375 - val_loss: 1.5154 - val_acc: 0.4627\n",
      "Epoch 10/50\n",
      "50000/50000 [==============================] - 5s 100us/step - loss: 1.2996 - acc: 0.5465 - val_loss: 1.5060 - val_acc: 0.4685\n",
      "Epoch 11/50\n",
      "50000/50000 [==============================] - 5s 97us/step - loss: 1.2711 - acc: 0.5581 - val_loss: 1.4989 - val_acc: 0.4735\n",
      "Epoch 12/50\n",
      "50000/50000 [==============================] - 5s 90us/step - loss: 1.2440 - acc: 0.5670 - val_loss: 1.4860 - val_acc: 0.4757\n",
      "Epoch 13/50\n",
      "50000/50000 [==============================] - 5s 93us/step - loss: 1.2161 - acc: 0.5780 - val_loss: 1.4814 - val_acc: 0.4789\n",
      "Epoch 14/50\n",
      "50000/50000 [==============================] - 4s 88us/step - loss: 1.1906 - acc: 0.5886 - val_loss: 1.4695 - val_acc: 0.4815\n",
      "Epoch 15/50\n",
      "50000/50000 [==============================] - 4s 89us/step - loss: 1.1659 - acc: 0.5978 - val_loss: 1.4899 - val_acc: 0.4790\n",
      "Epoch 16/50\n",
      "50000/50000 [==============================] - 5s 90us/step - loss: 1.1417 - acc: 0.6074 - val_loss: 1.4605 - val_acc: 0.4867\n",
      "Epoch 17/50\n",
      "50000/50000 [==============================] - 4s 90us/step - loss: 1.1188 - acc: 0.6155 - val_loss: 1.4486 - val_acc: 0.4919\n",
      "Epoch 18/50\n",
      "50000/50000 [==============================] - 4s 88us/step - loss: 1.0954 - acc: 0.6241 - val_loss: 1.4474 - val_acc: 0.4936\n",
      "Epoch 19/50\n",
      "50000/50000 [==============================] - 4s 87us/step - loss: 1.0733 - acc: 0.6338 - val_loss: 1.4581 - val_acc: 0.4917\n",
      "Epoch 20/50\n",
      "50000/50000 [==============================] - 5s 93us/step - loss: 1.0502 - acc: 0.6418 - val_loss: 1.4577 - val_acc: 0.4894\n",
      "Epoch 21/50\n",
      "50000/50000 [==============================] - 5s 93us/step - loss: 1.0283 - acc: 0.6524 - val_loss: 1.4532 - val_acc: 0.4973\n",
      "Epoch 22/50\n",
      "50000/50000 [==============================] - 4s 89us/step - loss: 1.0081 - acc: 0.6575 - val_loss: 1.4511 - val_acc: 0.4951\n",
      "Epoch 23/50\n",
      "50000/50000 [==============================] - 5s 90us/step - loss: 0.9863 - acc: 0.6667 - val_loss: 1.4696 - val_acc: 0.4924\n",
      "Epoch 24/50\n",
      "50000/50000 [==============================] - 5s 94us/step - loss: 0.9653 - acc: 0.6764 - val_loss: 1.4637 - val_acc: 0.4902\n",
      "Epoch 25/50\n",
      "50000/50000 [==============================] - 4s 87us/step - loss: 0.9435 - acc: 0.6854 - val_loss: 1.4657 - val_acc: 0.4961\n",
      "Epoch 26/50\n",
      "50000/50000 [==============================] - 4s 88us/step - loss: 0.9225 - acc: 0.6924 - val_loss: 1.4541 - val_acc: 0.4978\n",
      "Epoch 27/50\n",
      "50000/50000 [==============================] - 5s 91us/step - loss: 0.9023 - acc: 0.6997 - val_loss: 1.4766 - val_acc: 0.4938\n",
      "Epoch 28/50\n",
      "50000/50000 [==============================] - 5s 91us/step - loss: 0.8808 - acc: 0.7089 - val_loss: 1.4578 - val_acc: 0.4977\n",
      "Epoch 29/50\n",
      "50000/50000 [==============================] - 4s 90us/step - loss: 0.8619 - acc: 0.7168 - val_loss: 1.4713 - val_acc: 0.4960\n",
      "Epoch 30/50\n",
      "50000/50000 [==============================] - 4s 88us/step - loss: 0.8421 - acc: 0.7247 - val_loss: 1.4777 - val_acc: 0.4976\n",
      "Epoch 31/50\n",
      "50000/50000 [==============================] - 5s 92us/step - loss: 0.8232 - acc: 0.7310 - val_loss: 1.4860 - val_acc: 0.4957\n",
      "Epoch 32/50\n",
      "50000/50000 [==============================] - 4s 88us/step - loss: 0.8028 - acc: 0.7418 - val_loss: 1.4937 - val_acc: 0.4974\n",
      "Epoch 33/50\n",
      "50000/50000 [==============================] - 5s 92us/step - loss: 0.7832 - acc: 0.7467 - val_loss: 1.5017 - val_acc: 0.4925\n",
      "Epoch 34/50\n",
      "50000/50000 [==============================] - 5s 93us/step - loss: 0.7623 - acc: 0.7567 - val_loss: 1.4942 - val_acc: 0.5001\n",
      "Epoch 35/50\n",
      "50000/50000 [==============================] - 4s 88us/step - loss: 0.7428 - acc: 0.7637 - val_loss: 1.5054 - val_acc: 0.4975\n",
      "Epoch 36/50\n",
      "50000/50000 [==============================] - 4s 88us/step - loss: 0.7232 - acc: 0.7722 - val_loss: 1.5109 - val_acc: 0.4946\n",
      "Epoch 37/50\n",
      "50000/50000 [==============================] - 4s 89us/step - loss: 0.7056 - acc: 0.7770 - val_loss: 1.5486 - val_acc: 0.4949\n",
      "Epoch 38/50\n",
      "50000/50000 [==============================] - 5s 91us/step - loss: 0.6884 - acc: 0.7849 - val_loss: 1.5358 - val_acc: 0.4975\n",
      "Epoch 39/50\n",
      "50000/50000 [==============================] - 4s 88us/step - loss: 0.6696 - acc: 0.7939 - val_loss: 1.5440 - val_acc: 0.5002\n",
      "Epoch 40/50\n",
      "50000/50000 [==============================] - 4s 87us/step - loss: 0.6494 - acc: 0.8015 - val_loss: 1.5636 - val_acc: 0.4937\n",
      "Epoch 41/50\n",
      "50000/50000 [==============================] - 5s 90us/step - loss: 0.6316 - acc: 0.8082 - val_loss: 1.5670 - val_acc: 0.5004\n",
      "Epoch 42/50\n",
      "50000/50000 [==============================] - 4s 89us/step - loss: 0.6139 - acc: 0.8157 - val_loss: 1.5737 - val_acc: 0.4952\n",
      "Epoch 43/50\n",
      "50000/50000 [==============================] - 4s 87us/step - loss: 0.5967 - acc: 0.8224 - val_loss: 1.5710 - val_acc: 0.4971\n",
      "Epoch 44/50\n",
      "50000/50000 [==============================] - 4s 87us/step - loss: 0.5781 - acc: 0.8291 - val_loss: 1.5973 - val_acc: 0.4964\n",
      "Epoch 45/50\n",
      "50000/50000 [==============================] - 5s 92us/step - loss: 0.5618 - acc: 0.8359 - val_loss: 1.6183 - val_acc: 0.4963\n",
      "Epoch 46/50\n",
      "50000/50000 [==============================] - 4s 88us/step - loss: 0.5460 - acc: 0.8429 - val_loss: 1.6222 - val_acc: 0.4913\n",
      "Epoch 47/50\n",
      "50000/50000 [==============================] - 5s 91us/step - loss: 0.5296 - acc: 0.8484 - val_loss: 1.6342 - val_acc: 0.4994\n",
      "Epoch 48/50\n",
      "50000/50000 [==============================] - 5s 93us/step - loss: 0.5134 - acc: 0.8540 - val_loss: 1.6434 - val_acc: 0.4961\n",
      "Epoch 49/50\n",
      "50000/50000 [==============================] - 5s 98us/step - loss: 0.4964 - acc: 0.8615 - val_loss: 1.6691 - val_acc: 0.4914\n"
     ]
    },
    {
     "name": "stdout",
     "output_type": "stream",
     "text": [
      "Epoch 50/50\n",
      "50000/50000 [==============================] - 5s 92us/step - loss: 0.4799 - acc: 0.8681 - val_loss: 1.6619 - val_acc: 0.4894\n"
     ]
    }
   ],
   "source": [
    "results = {}\n",
    "\"\"\"Code Here\n",
    "撰寫你的訓練流程並將結果用 dictionary 紀錄\n",
    "\"\"\"\n",
    "\n",
    "model = build_mlp(input_shape=x_train.shape[1:])\n",
    "model.summary()\n",
    "optimizer = keras.optimizers.SGD(lr=LEARNING_RATE, nesterov=True, momentum=MOMENTUM)\n",
    "model.compile(loss=\"categorical_crossentropy\", metrics=[\"accuracy\"], optimizer=optimizer)\n",
    "\n",
    "model.fit(x_train, y_train, \n",
    "          epochs=EPOCHS, \n",
    "          batch_size=BATCH_SIZE, \n",
    "          validation_data=(x_test, y_test), \n",
    "          shuffle=True)\n",
    "\n",
    "# Collect results\n",
    "train_loss = model.history.history[\"loss\"]\n",
    "valid_loss = model.history.history[\"val_loss\"]\n",
    "train_acc = model.history.history[\"acc\"]\n",
    "valid_acc = model.history.history[\"val_acc\"]"
   ]
  },
  {
   "cell_type": "code",
   "execution_count": 8,
   "metadata": {},
   "outputs": [
    {
     "data": {
      "image/png": "[encoded data removed]",
      "text/plain": [
       "<Figure size 432x288 with 1 Axes>"
      ]
     },
     "metadata": {},
     "output_type": "display_data"
    },
    {
     "data": {
      "image/png": "[encoded data removed]",
      "text/plain": [
       "<Figure size 432x288 with 1 Axes>"
      ]
     },
     "metadata": {},
     "output_type": "display_data"
    }
   ],
   "source": [
    "import matplotlib.pyplot as plt\n",
    "%matplotlib inline\n",
    "\"\"\"Code Here\n",
    "將結果繪出\n",
    "\"\"\"\n",
    "\n",
    "\n",
    "plt.plot(range(len(train_loss)), train_loss, label=\"train loss\")\n",
    "plt.plot(range(len(valid_loss)), valid_loss, label=\"valid loss\")\n",
    "plt.legend()\n",
    "plt.title(\"Loss\")\n",
    "plt.show()\n",
    "\n",
    "plt.plot(range(len(train_acc)), train_acc, label=\"train accuracy\")\n",
    "plt.plot(range(len(valid_acc)), valid_acc, label=\"valid accuracy\")\n",
    "plt.legend()\n",
    "plt.title(\"Accuracy\")\n",
    "plt.show()\n"
   ]
  }
 ],
 "metadata": {
  "kernelspec": {
   "display_name": "Python 3",
   "language": "python",
   "name": "python3"
  },
  "language_info": {
   "codemirror_mode": {
    "name": "ipython",
    "version": 3
   },
   "file_extension": ".py",
   "mimetype": "text/x-python",
   "name": "python",
   "nbconvert_exporter": "python",
   "pygments_lexer": "ipython3",
   "version": "3.6.4"
  }
 },
 "nbformat": 4,
 "nbformat_minor": 2
}
