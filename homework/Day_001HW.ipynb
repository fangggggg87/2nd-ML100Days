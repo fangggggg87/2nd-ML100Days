{
 "cells": [
  {
   "cell_type": "code",
   "execution_count": 45,
   "metadata": {
    "scrolled": true
   },
   "outputs": [
    {
     "name": "stdout",
     "output_type": "stream",
     "text": [
      "請上 Kaggle, 在 Competitions 或 Dataset 中找一組競賽或資料並寫下：\n"
     ]
    }
   ],
   "source": [
    "print(\"請上 Kaggle, 在 Competitions 或 Dataset 中找一組競賽或資料並寫下：\")\n",
    "\n"
   ]
  },
  {
   "cell_type": "code",
   "execution_count": 44,
   "metadata": {},
   "outputs": [
    {
     "name": "stdout",
     "output_type": "stream",
     "text": [
      "1. 你選的這組資料為何重要\n",
      "----------------------------------------------------\n",
      "這組資料主要是對於1~5歲幼兒的胸部X光影像，對於幼童胸部x光的照片來進行肺炎篩檢的研究\n",
      "我認為透過影像辨識的方式來找出病痛的問題所在或是進行問題防範，對人類來講都是很好的應用\n",
      "對於幼兒的肺炎患者，若可以提早發現，提前治療，這一個是再好不過的福址之一了\n"
     ]
    }
   ],
   "source": [
    "print(\"1. 你選的這組資料為何重要\")\n",
    "print(\"----------------------------------------------------\")\n",
    "print(\"這組資料主要是對於1~5歲幼兒的胸部X光影像，對於幼童胸部x光的照片來進行肺炎篩檢的研究\")\n",
    "print(\"我認為透過影像辨識的方式來找出病痛的問題所在或是進行問題防範，對人類來講都是很好的應用\")\n",
    "print('對於幼兒的肺炎患者，若可以提早發現，提前治療，這一個是再好不過的福址之一了')"
   ]
  },
  {
   "cell_type": "code",
   "execution_count": 46,
   "metadata": {},
   "outputs": [
    {
     "name": "stdout",
     "output_type": "stream",
     "text": [
      "2. 資料從何而來 (tips: 譬如提供者是誰、以什麼方式蒐集\n",
      "----------------------------------------------------\n",
      "這組資料是從Kaggle上的Dataset中找到的\n",
      "作者:Paul Mooney\n",
      "內容:廣州婦女兒童醫學中心1~5歲兒科患者的胸部x光影像\n"
     ]
    }
   ],
   "source": [
    "print(\"2. 資料從何而來 (tips: 譬如提供者是誰、以什麼方式蒐集\")\n",
    "print(\"----------------------------------------------------\")\n",
    "print(\"這組資料是從Kaggle上的Dataset中找到的\")\n",
    "print(\"作者:Paul Mooney\")\n",
    "print('內容:廣州婦女兒童醫學中心1~5歲兒科患者的胸部x光影像')"
   ]
  },
  {
   "cell_type": "code",
   "execution_count": 42,
   "metadata": {},
   "outputs": [
    {
     "name": "stdout",
     "output_type": "stream",
     "text": [
      "3. 蒐集而來的資料型態為何\n",
      "----------------------------------------------------\n",
      "由於為x光片的影像辨識研究，故資料型態皆為jpeg\n"
     ]
    }
   ],
   "source": [
    "print(\"3. 蒐集而來的資料型態為何\")\n",
    "print(\"----------------------------------------------------\")\n",
    "print(\"由於為x光片的影像辨識研究，故資料型態皆為jpeg\")"
   ]
  },
  {
   "cell_type": "code",
   "execution_count": 47,
   "metadata": {},
   "outputs": [
    {
     "name": "stdout",
     "output_type": "stream",
     "text": [
      "4. 這組資料想解決的問題如何評估\n",
      "----------------------------------------------------\n",
      "對於胸部X光影像的分析，首先通過去除所有低質量或不可讀的掃描來篩選所有胸部X光片以進行質量控制。\n",
      "然後由兩名專家醫生對圖像進行評級，然後才進行AI系統培訓。 為了解釋任何評分錯誤，評估集也由第三位專家檢查。\n"
     ]
    }
   ],
   "source": [
    "print(\"4. 這組資料想解決的問題如何評估\")\n",
    "print(\"----------------------------------------------------\")\n",
    "print('對於胸部X光影像的分析，首先通過去除所有低質量或不可讀的掃描來篩選所有胸部X光片以進行質量控制。')\n",
    "print('然後由兩名專家醫生對圖像進行評級，然後才進行AI系統培訓。 為了解釋任何評分錯誤，評估集也由第三位專家檢查。')"
   ]
  }
 ],
 "metadata": {
  "kernelspec": {
   "display_name": "Python 3",
   "language": "python",
   "name": "python3"
  },
  "language_info": {
   "codemirror_mode": {
    "name": "ipython",
    "version": 3
   },
   "file_extension": ".py",
   "mimetype": "text/x-python",
   "name": "python",
   "nbconvert_exporter": "python",
   "pygments_lexer": "ipython3",
   "version": "3.6.4"
  }
 },
 "nbformat": 4,
 "nbformat_minor": 2
}
